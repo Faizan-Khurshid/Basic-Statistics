{
 "cells": [
  {
   "cell_type": "markdown",
   "metadata": {},
   "source": [
    "# Measures Of Central Tendency"
   ]
  },
  {
   "cell_type": "markdown",
   "metadata": {},
   "source": [
    "Central Tendency is a descriptive summary of a dataset through a single value that reflects (center of) the dataset.It id s branch of Descriptive Statistics"
   ]
  },
  {
   "cell_type": "markdown",
   "metadata": {},
   "source": [
    "# Mean"
   ]
  },
  {
   "cell_type": "markdown",
   "metadata": {},
   "source": [
    "Mean is central value that is calulated by summing all the data valus and dividing by the no of values.<br>\n",
    "example\n",
    "2,3,4,5,6\n",
    "Mean = 20/5 = 4"
   ]
  },
  {
   "cell_type": "markdown",
   "metadata": {},
   "source": [
    "### issue with mean"
   ]
  },
  {
   "cell_type": "markdown",
   "metadata": {},
   "source": [
    "consider we have data 2,2,2,2,2,2,2,2,2,2 its mean is 20/10 = 2<br>\n",
    "now consider we have a new data value 100 now the data is 2,2,2,2,2,2,2,2,2,2,100 its mean is 120/11=10.9"
   ]
  },
  {
   "cell_type": "markdown",
   "metadata": {},
   "source": [
    "### mean is highly affected by outliers"
   ]
  },
  {
   "cell_type": "markdown",
   "metadata": {},
   "source": [
    "# Median"
   ]
  },
  {
   "cell_type": "markdown",
   "metadata": {},
   "source": [
    "The middle value in a dataset that is arranged in ascending order (from the smallest value to the largest value)"
   ]
  },
  {
   "cell_type": "markdown",
   "metadata": {},
   "source": [
    "2,2,2,2,2,2,2,2,2,2 its median is 2<br>\n",
    "2,2,2,2,2,2,2,2,2,2,100 median is also 2"
   ]
  },
  {
   "cell_type": "markdown",
   "metadata": {},
   "source": [
    "# Mode"
   ]
  },
  {
   "cell_type": "markdown",
   "metadata": {},
   "source": [
    "Defines the most frequently occurring value in a dataset. In some cases, a dataset may contain multiple modes while some datasets may not have any mode at all."
   ]
  },
  {
   "cell_type": "markdown",
   "metadata": {},
   "source": [
    "2,2,2,2,2,2,2,2,2,2 its mode is 2<br>\n",
    "2,2,2,2,2,2,2,2,2,2,100 mode is also 2<br>\n",
    "2,3,4,5,6 has no mode<br>\n",
    "2,3,4,5,6,2,5 has two modes 2,5"
   ]
  },
  {
   "cell_type": "markdown",
   "metadata": {},
   "source": [
    "# Measures of Dispersion"
   ]
  },
  {
   "cell_type": "markdown",
   "metadata": {},
   "source": [
    "The mean of 2,2,3,3 is 2.5<br>\n",
    "The mean of 5,0,0,5 is also 2.5<br>\n",
    "as we can see for both data mean is sam, hence is not able to uniquely represent data alone, along with central tencdency we need to know about the dispersion of data"
   ]
  },
  {
   "cell_type": "markdown",
   "metadata": {},
   "source": [
    "# Variance"
   ]
  },
  {
   "cell_type": "markdown",
   "metadata": {},
   "source": [
    "Variance is the average of squared distance of the data values from mean"
   ]
  },
  {
   "cell_type": "markdown",
   "metadata": {},
   "source": [
    "# Standard Deviation"
   ]
  },
  {
   "cell_type": "markdown",
   "metadata": {},
   "source": [
    "square root of variance is standard deviation<br>\n",
    "it is needed so that the unit of data and dispersion becomes same"
   ]
  },
  {
   "cell_type": "code",
   "execution_count": null,
   "metadata": {},
   "outputs": [],
   "source": []
  }
 ],
 "metadata": {
  "kernelspec": {
   "display_name": "Python 3",
   "language": "python",
   "name": "python3"
  },
  "language_info": {
   "codemirror_mode": {
    "name": "ipython",
    "version": 3
   },
   "file_extension": ".py",
   "mimetype": "text/x-python",
   "name": "python",
   "nbconvert_exporter": "python",
   "pygments_lexer": "ipython3",
   "version": "3.7.1"
  }
 },
 "nbformat": 4,
 "nbformat_minor": 2
}
